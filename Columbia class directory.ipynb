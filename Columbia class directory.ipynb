{
 "cells": [
  {
   "cell_type": "code",
   "execution_count": 1,
   "metadata": {},
   "outputs": [],
   "source": [
    "# import libraries\n",
    "import requests # send http requests\n",
    "import re # regex to deal with strings\n",
    "from bs4 import BeautifulSoup # pull data from html and xml files\n",
    "# import urllib.request # open urls - good for downloading files"
   ]
  },
  {
   "cell_type": "code",
   "execution_count": 2,
   "metadata": {},
   "outputs": [],
   "source": [
    "# semester to be extracted: the format is Fall/Spring/Summer + YYYY. If this does not work, inspect the HTML\n",
    "semester = 'Spring2020'\n",
    "semesterURL = semester + '.html' + '$' # add $ at the end to specify that the link ends with semester.html"
   ]
  },
  {
   "cell_type": "code",
   "execution_count": 3,
   "metadata": {},
   "outputs": [
    {
     "name": "stdout",
     "output_type": "stream",
     "text": [
      "Number of Subjects in Spring2020 is: 321\n"
     ]
    }
   ],
   "source": [
    "# extract the URLs for all subjects\n",
    "# subjects are grouped by alphabets, so we create a alphabetical list for the loop\n",
    "import string\n",
    "alphabet = list(string.ascii_uppercase) \n",
    "\n",
    "subjList = [] # initialize the list of URLs\n",
    "for letter in alphabet:\n",
    "    letterURL = 'http://www.columbia.edu/cu/bulletin/uwb/sel/subj-' + letter + '.html' #link for subjects beginning with the letter\n",
    "    html = requests.get(letterURL)\n",
    "    soup = BeautifulSoup(html.text, \"html.parser\") # parse the html file\n",
    "    \n",
    "    subjLetter = soup.findAll('a', href = re.compile(semesterURL)) # get the attributes containing the links\n",
    "    for subj in subjLetter:\n",
    "        subjList.append('http://www.columbia.edu' + subj['href']) # add links to list\n",
    "        # a sample URL: 'http://www.columbia.edu/cu/bulletin/uwb/subj/ACCT/_Spring2020.html'\n",
    "        \n",
    "print('Number of Subjects in ' + semester + ' is:', len(subjList))"
   ]
  },
  {
   "cell_type": "code",
   "execution_count": null,
   "metadata": {},
   "outputs": [],
   "source": [
    "subjData = [] # initialize data\n",
    "for subj in subjList:\n",
    "    html = requests.get(subj)\n",
    "    soup = BeautifulSoup(html.text, \"html.parser\")\n",
    "\n",
    "    # extract class info from a table in the html where info is rows\n",
    "    classTable = soup.findAll('tr') # parse all rows\n",
    "    # drop row 0,1 and last row which contain irrelevant information\n",
    "    del classTable[0:2]\n",
    "    del classTable[-1]\n",
    "    \n",
    "    # for each class, the info is extracted as follows:\n",
    "    # 1. class code and name: the row with only 1 cell\n",
    "    # 2. all other info including enrollment, instructor, time, location: the row with 2 cells\n",
    "    for cl in classTable:\n",
    "        row = {} # initialize row\n",
    "        if len(cl.findChildren('td')) == 1:\n",
    "            row['code'] = cl.findChildren('td')[0].b.next_element[-5:] # code comes in 5 characters at the end of the first line\n",
    "            row['name'] = cl.findChildren('td')[0].b.next_element.next_element.next_element # name comes in the second line\n",
    "        else:\n",
    "            info = cl.findChildren('td')[1].findAll('b')\n",
    "            for elm in info:\n",
    "                row[elm.text.replace(':','').strip()] = elm.next_element.next_element.strip() # strip to remove spaces in front and behind\n",
    "        subjData.append(row)"
   ]
  },
  {
   "cell_type": "code",
   "execution_count": null,
   "metadata": {},
   "outputs": [],
   "source": [
    "# store data in a data frame\n",
    "import pandas as pd\n",
    "df = pd.DataFrame(subjData)"
   ]
  },
  {
   "cell_type": "code",
   "execution_count": null,
   "metadata": {},
   "outputs": [],
   "source": [
    "# some cleaning for readability in excel\n",
    "df = df.fillna(0)\n",
    "\n",
    "# move the code and name info on the first row with all other info to signal the start of a class\n",
    "df['Code'] = df.loc[df['Call Number'].shift(-1) != 0, 'code']\n",
    "df['Code'] = df['Code'].shift()\n",
    "df['Name'] = df.loc[df['Call Number'].shift(-1) != 0, 'name']\n",
    "df['Name'] = df['Name'].shift()\n",
    "\n",
    "# merge the 2 columns on instructors\n",
    "df['Instructors'] = df['Instructor'].astype(str) + ',' + df['Instructors'].astype(str)\n",
    "df['Instructors'] = df['Instructors'].str.replace(',0','',regex=True)\n",
    "df['Instructors'] = df['Instructors'].str.replace('0,','',regex=True)\n",
    "\n",
    "# remove the (code,name,Instructor) columns and remove the row with only the code and name info\n",
    "df = df.drop(columns=['code','name', 'Instructor'],axis=1)\n",
    "df = df.drop(df[df['Call Number'] == 0].index)\n",
    "\n",
    "# extract the current enrollment\n",
    "import numpy as np\n",
    "df['Size'] = df['Enrollment'].str[:3]\n",
    "df['Size'] = np.where(df['Size'].str[2] == 's', df['Size'].str[0], df['Size']) #if the 3rd character is a 's', size is single-digit\n",
    "df['Size'] = np.where(df['Size'].str[3] == 's', df['Size'].str[:1], df['Size']) #if the 4th character is a 's', size is double-digit\n",
    "df['Size'] = df['Size'].astype(int)\n",
    "\n",
    "# re-order the variables and take only what we need\n",
    "columns = ['Name','Code','Call Number','Enrollment','Size','Day/Time','Location','Instructors']\n",
    "df = df[columns]\n",
    "df = df.replace(0,'')"
   ]
  },
  {
   "cell_type": "code",
   "execution_count": null,
   "metadata": {},
   "outputs": [],
   "source": [
    "# save to excel\n",
    "fileName = 'class' + semester + '.xlsx'\n",
    "df.to_excel(fileName)"
   ]
  },
  {
   "cell_type": "code",
   "execution_count": null,
   "metadata": {},
   "outputs": [],
   "source": []
  }
 ],
 "metadata": {
  "kernelspec": {
   "display_name": "Python 3",
   "language": "python",
   "name": "python3"
  },
  "language_info": {
   "codemirror_mode": {
    "name": "ipython",
    "version": 3
   },
   "file_extension": ".py",
   "mimetype": "text/x-python",
   "name": "python",
   "nbconvert_exporter": "python",
   "pygments_lexer": "ipython3",
   "version": "3.7.3"
  }
 },
 "nbformat": 4,
 "nbformat_minor": 2
}
